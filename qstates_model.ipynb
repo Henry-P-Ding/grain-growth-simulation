{
  "cells": [
    {
      "cell_type": "markdown",
      "metadata": {
        "id": "view-in-github",
        "colab_type": "text"
      },
      "source": [
        "<a href=\"https://colab.research.google.com/github/Henry-P-Ding/grain-growth-simulation/blob/main/qstates_model.ipynb\" target=\"_parent\"><img src=\"https://colab.research.google.com/assets/colab-badge.svg\" alt=\"Open In Colab\"/></a>"
      ]
    },
    {
      "cell_type": "markdown",
      "source": [
        "# Implementation\n",
        "``numpy`` is used for numerical operations. \n",
        "\n",
        "``matplotlib`` is used to graph results. \n",
        "\n",
        "``scipy`` and ``shapeply`` are used to generate initial voronoi grain lattices."
      ],
      "metadata": {
        "id": "NpmYU_hRcAMx"
      }
    },
    {
      "cell_type": "code",
      "source": [
        "import numpy as np\n",
        "import matplotlib.pyplot as plt"
      ],
      "metadata": {
        "id": "gSKlp4IKcTIM"
      },
      "execution_count": 93,
      "outputs": []
    },
    {
      "cell_type": "markdown",
      "source": [
        "Constants for the q-states model. ``n_grains`` determines the number of initial crystal grains. ``SIZE`` refers to the lattice width/height, which is a square in lattice vector space, but may be differently shaped in physical space depending on the lattice type."
      ],
      "metadata": {
        "id": "SW1XjNopcYoe"
      }
    },
    {
      "cell_type": "code",
      "execution_count": 94,
      "metadata": {
        "id": "tUHUyrNJbMjJ"
      },
      "outputs": [],
      "source": [
        "# Constants for the Q-States Model\n",
        "N_GRAINS = 10\n",
        "SIZE = 40"
      ]
    },
    {
      "cell_type": "markdown",
      "source": [
        "The grain lattice is populated by selecting ``n_grains`` random sites as grain origins, and then generating a voronoi diagram based on Euclidean distance to grain origins."
      ],
      "metadata": {
        "id": "8TYw2S7Tc6nY"
      }
    },
    {
      "cell_type": "code",
      "source": [
        "def generate_lattice(size, n_grains, basis):\n",
        "  \"\"\"\n",
        "  Generates voronoi lattice with crystal grains.\n",
        "  \"\"\"\n",
        "  lattice = np.ones(shape=(SIZE, SIZE)) * -1\n",
        "\n",
        "  # determins unique grain origins\n",
        "  origins = np.ones(shape=(n_grains, 2)) * -1\n",
        "  o_count = 0\n",
        "  while o_count < n_grains:\n",
        "    p = [np.random.randint(0, SIZE), np.random.randint(0, SIZE)]\n",
        "    if not p in origins[:o_count].tolist():\n",
        "      origins[o_count] = np.array(p)\n",
        "      lattice[p[0], p[1]] = o_count\n",
        "      o_count += 1\n",
        "\n",
        "  # fill latest with nearest origin by Euclidean distance\n",
        "  for i in range(SIZE):\n",
        "    for j in range(SIZE):\n",
        "      if lattice[i, j] == -1:\n",
        "        rel = np.tile(np.array([i, j]), (n_grains, 1)) - origins\n",
        "        # change of basis\n",
        "        cart_rel = np.matmul(basis, rel.T).T\n",
        "        sq_dist = np.sum(cart_rel ** 2, axis=1)\n",
        "        # choose a random minimum distance index\n",
        "        lattice[i, j] = np.random.choice(np.where(sq_dist == sq_dist.min())[0])\n",
        "\n",
        "  return lattice\n",
        "\n",
        "\n",
        "grain_lattice = generate_lattice(SIZE, N_GRAINS, np.array([[1, 0], [0, 1]]))\n",
        "grain_lattice"
      ],
      "metadata": {
        "id": "rBrrK_BUc5Gu",
        "colab": {
          "base_uri": "https://localhost:8080/"
        },
        "outputId": "4e082990-7791-4a29-9b75-2e0b7068a235"
      },
      "execution_count": 95,
      "outputs": [
        {
          "output_type": "execute_result",
          "data": {
            "text/plain": [
              "array([[7., 7., 7., ..., 0., 0., 0.],\n",
              "       [7., 7., 7., ..., 0., 0., 0.],\n",
              "       [7., 7., 7., ..., 0., 0., 0.],\n",
              "       ...,\n",
              "       [5., 5., 5., ..., 6., 6., 6.],\n",
              "       [5., 5., 5., ..., 6., 6., 6.],\n",
              "       [5., 5., 5., ..., 6., 6., 6.]])"
            ]
          },
          "metadata": {},
          "execution_count": 95
        }
      ]
    },
    {
      "cell_type": "code",
      "source": [
        "def find_boundaries(lattice, nn_f):\n",
        "  \"\"\"\n",
        "  Finds boundary lattice positions, with neighbors having different lattice values.\n",
        "\n",
        "  Arguments:\n",
        "  lattice -- lattice to return boundaries\n",
        "  nn_f -- function to find nearest neighbor indices given position, returns\n",
        "  ndarray with row neighbor positions\n",
        "  \"\"\"\n",
        "  size = lattice.shape[0]\n",
        "  boundaries = []\n",
        "  for i in range(size):\n",
        "    for j in range(size):\n",
        "      grain = lattice[i, j]\n",
        "      # finds unique nearest neighbor lattice sites within lattice boundaries\n",
        "      nn = np.unique(np.clip(nn_f(np.array([i, j])), 0, size - 1), axis=0)\n",
        "      for n in nn:\n",
        "        # determines if any neighbors have a different lattice value.\n",
        "        # if true, then the site is on a boundary\n",
        "        if lattice[n[0], n[1]] != grain:\n",
        "          boundaries.append(np.array([i, j]))\n",
        "          break\n",
        "\n",
        "  return np.array(boundaries)\n",
        "  \n",
        "\n",
        "grain_boundaries = find_boundaries(grain_lattice, lambda p:np.array([p+[0, -1], \n",
        "                                                                     p+[-1, 0],\n",
        "                                                                     p+[0, 1], \n",
        "                                                                     p+[1, 0]]))"
      ],
      "metadata": {
        "id": "PBjI_3s2aG_u"
      },
      "execution_count": 96,
      "outputs": []
    },
    {
      "cell_type": "code",
      "source": [
        "# Visualization of grain lattice and boundaries\n",
        "%matplotlib inline\n",
        "import matplotlib.pyplot as plt\n",
        "import matplotlib.cm as cm\n",
        "\n",
        "boundary_marked = np.zeros(shape=(SIZE, SIZE))\n",
        "for b in grain_boundaries:\n",
        "  boundary_marked[b[0], b[1]] = 10\n",
        "\n",
        "fig, axs = plt.subplots(1, 2)\n",
        "fig.set_size_inches((12, 12))\n",
        "axs[0].imshow(grain_lattice, interpolation='nearest')\n",
        "axs[0].xaxis.tick_top()\n",
        "axs[0].set_title(\"Crystal Grains\")\n",
        "axs[1].imshow(boundary_marked, cmap=cm.binary, interpolation='nearest')\n",
        "axs[1].xaxis.tick_top()\n",
        "axs[1].set_title(\"Boundary\")\n",
        "\n",
        "fig.show()"
      ],
      "metadata": {
        "colab": {
          "base_uri": "https://localhost:8080/",
          "height": 368
        },
        "id": "FLysCMtJfrh_",
        "outputId": "9aab24d8-4985-4c7b-cd3d-201bf52d8e51"
      },
      "execution_count": 99,
      "outputs": [
        {
          "output_type": "display_data",
          "data": {
            "text/plain": [
              "<Figure size 864x864 with 2 Axes>"
            ],
            "image/png": "[encoded data removed]"
          },
          "metadata": {
            "needs_background": "light"
          }
        }
      ]
    }
  ],
  "metadata": {
    "language_info": {
      "name": "python"
    },
    "orig_nbformat": 4,
    "colab": {
      "name": "qstates_model.ipynb",
      "provenance": [],
      "collapsed_sections": [],
      "include_colab_link": true
    },
    "kernelspec": {
      "name": "python3",
      "display_name": "Python 3"
    }
  },
  "nbformat": 4,
  "nbformat_minor": 0
}