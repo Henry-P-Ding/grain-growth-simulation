{
  "cells": [
    {
      "cell_type": "markdown",
      "source": [
        "# Implementation\n",
        "``numpy`` is used for numerical operations. \n",
        "\n",
        "``matplotlib`` is used to graph results. \n",
        "\n",
        "``scipy`` and ``shapeply`` are used to generate initial voronoi grain lattices."
      ],
      "metadata": {
        "id": "NpmYU_hRcAMx"
      }
    },
    {
      "cell_type": "code",
      "source": [
        "import numpy as np\n",
        "import matplotlib.pyplot as plt"
      ],
      "metadata": {
        "id": "gSKlp4IKcTIM"
      },
      "execution_count": null,
      "outputs": []
    },
    {
      "cell_type": "markdown",
      "source": [
        "Constants for the q-states model. ``n_grains`` determines the number of initial crystal grains. ``SIZE`` refers to the lattice width/height, which is a square in lattice vector space, but may be differently shaped in physical space depending on the lattice type."
      ],
      "metadata": {
        "id": "SW1XjNopcYoe"
      }
    },
    {
      "cell_type": "code",
      "execution_count": null,
      "metadata": {
        "id": "tUHUyrNJbMjJ"
      },
      "outputs": [],
      "source": [
        "# Constants for the Q-States Model\n",
        "N_GRAINS = 10\n",
        "SIZE = 10"
      ]
    },
    {
      "cell_type": "markdown",
      "source": [
        "The grain lattice is populated by selecting ``n_grains`` random sites as grain origins, and then generating a voronoi diagram based on Euclidean distance to grain origins."
      ],
      "metadata": {
        "id": "8TYw2S7Tc6nY"
      }
    },
    {
      "cell_type": "code",
      "source": [
        "# generates voronoi lattice\n",
        "def generate_lattice(size, n_grains):\n",
        "  lattice = np.ones(shape=(SIZE, SIZE)) * -1\n",
        "\n",
        "  # determins unique grain origins\n",
        "  origins = np.ones(shape=(n_grains, 2)) * -1\n",
        "  o_count = 0\n",
        "  while o_count < n_grains:\n",
        "    p = [np.random.randint(0, SIZE), np.random.randint(0, SIZE)]\n",
        "    if not p in origins[:o_count].tolist():\n",
        "      origins[o_count] = np.array(p)\n",
        "      lattice[p[0], p[1]] = o_count\n",
        "      o_count += 1\n",
        "\n",
        "  # fill latest with nearest origin by Euclidean distance\n",
        "  for i in range(SIZE):\n",
        "    for j in range(SIZE):\n",
        "      if lattice[i, j] == -1:\n",
        "        sq_dist = np.sum((np.tile(np.array([i, j]), (n_grains, 1)) - origins) ** 2, axis=1)\n",
        "        # choose a random minimum distance index\n",
        "        lattice[i, j] = np.random.choice(np.where(sq_dist == sq_dist.min())[0])\n",
        "\n",
        "  return lattice\n",
        "\n",
        "generate_lattice(SIZE, N_GRAINS)"
      ],
      "metadata": {
        "id": "rBrrK_BUc5Gu"
      },
      "execution_count": null,
      "outputs": []
    },
    {
      "cell_type": "code",
      "source": [
        ""
      ],
      "metadata": {
        "id": "XPdzgUBVhiBR"
      },
      "execution_count": null,
      "outputs": []
    }
  ],
  "metadata": {
    "language_info": {
      "name": "python"
    },
    "orig_nbformat": 4,
    "colab": {
      "name": "qstates_model.ipynb",
      "provenance": []
    },
    "kernelspec": {
      "name": "python3",
      "display_name": "Python 3"
    }
  },
  "nbformat": 4,
  "nbformat_minor": 0
}